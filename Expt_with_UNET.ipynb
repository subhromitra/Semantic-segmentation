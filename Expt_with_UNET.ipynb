{
 "cells": [
  {
   "cell_type": "markdown",
   "metadata": {
    "colab_type": "text",
    "id": "Rm6atbM-D_IB"
   },
   "source": [
    "<u><h1> Contents :-</h1></u>\n",
    "\n",
    "<br>\n",
    "\n",
    "**This file contains the code for building a UNeT. This type of network is mainly used for semantic segmentation ,i.e, pixel-wise classification.**\n",
    "\n",
    "![UNeT structure](https://lh3.googleusercontent.com/proxy/GVeuSVirsVsg0AkLlYoWQPsuKZckuxAFhTq-e3ylAaNat81rGxW-rCh-NpidKaYZvY9D26StOs929TYQXew5S5QTG748l74M5w)"
   ]
  },
  {
   "cell_type": "code",
   "execution_count": 0,
   "metadata": {
    "colab": {
     "base_uri": "https://localhost:8080/",
     "height": 353
    },
    "colab_type": "code",
    "id": "uzRmts4EUtuN",
    "outputId": "3f65f429-fe0d-4029-b6b1-e1b7ea0e165d"
   },
   "outputs": [
    {
     "name": "stdout",
     "output_type": "stream",
     "text": [
      "Requirement already satisfied: tensorflow-gpu in /usr/local/lib/python3.6/dist-packages (1.13.1)\n",
      "Requirement already satisfied: termcolor>=1.1.0 in /usr/local/lib/python3.6/dist-packages (from tensorflow-gpu) (1.1.0)\n",
      "Requirement already satisfied: tensorflow-estimator<1.14.0rc0,>=1.13.0 in /usr/local/lib/python3.6/dist-packages (from tensorflow-gpu) (1.13.0)\n",
      "Requirement already satisfied: wheel>=0.26 in /usr/local/lib/python3.6/dist-packages (from tensorflow-gpu) (0.33.1)\n",
      "Requirement already satisfied: numpy>=1.13.3 in /usr/local/lib/python3.6/dist-packages (from tensorflow-gpu) (1.16.3)\n",
      "Requirement already satisfied: keras-applications>=1.0.6 in /usr/local/lib/python3.6/dist-packages (from tensorflow-gpu) (1.0.7)\n",
      "Requirement already satisfied: six>=1.10.0 in /usr/local/lib/python3.6/dist-packages (from tensorflow-gpu) (1.12.0)\n",
      "Requirement already satisfied: grpcio>=1.8.6 in /usr/local/lib/python3.6/dist-packages (from tensorflow-gpu) (1.15.0)\n",
      "Requirement already satisfied: protobuf>=3.6.1 in /usr/local/lib/python3.6/dist-packages (from tensorflow-gpu) (3.7.1)\n",
      "Requirement already satisfied: astor>=0.6.0 in /usr/local/lib/python3.6/dist-packages (from tensorflow-gpu) (0.7.1)\n",
      "Requirement already satisfied: tensorboard<1.14.0,>=1.13.0 in /usr/local/lib/python3.6/dist-packages (from tensorflow-gpu) (1.13.1)\n",
      "Requirement already satisfied: gast>=0.2.0 in /usr/local/lib/python3.6/dist-packages (from tensorflow-gpu) (0.2.2)\n",
      "Requirement already satisfied: keras-preprocessing>=1.0.5 in /usr/local/lib/python3.6/dist-packages (from tensorflow-gpu) (1.0.9)\n",
      "Requirement already satisfied: absl-py>=0.1.6 in /usr/local/lib/python3.6/dist-packages (from tensorflow-gpu) (0.7.1)\n",
      "Requirement already satisfied: mock>=2.0.0 in /usr/local/lib/python3.6/dist-packages (from tensorflow-estimator<1.14.0rc0,>=1.13.0->tensorflow-gpu) (2.0.0)\n",
      "Requirement already satisfied: h5py in /usr/local/lib/python3.6/dist-packages (from keras-applications>=1.0.6->tensorflow-gpu) (2.8.0)\n",
      "Requirement already satisfied: setuptools in /usr/local/lib/python3.6/dist-packages (from protobuf>=3.6.1->tensorflow-gpu) (41.0.1)\n",
      "Requirement already satisfied: markdown>=2.6.8 in /usr/local/lib/python3.6/dist-packages (from tensorboard<1.14.0,>=1.13.0->tensorflow-gpu) (3.1)\n",
      "Requirement already satisfied: werkzeug>=0.11.15 in /usr/local/lib/python3.6/dist-packages (from tensorboard<1.14.0,>=1.13.0->tensorflow-gpu) (0.15.2)\n",
      "Requirement already satisfied: pbr>=0.11 in /usr/local/lib/python3.6/dist-packages (from mock>=2.0.0->tensorflow-estimator<1.14.0rc0,>=1.13.0->tensorflow-gpu) (5.2.0)\n"
     ]
    }
   ],
   "source": [
    "!pip install tensorflow-gpu"
   ]
  },
  {
   "cell_type": "markdown",
   "metadata": {
    "colab_type": "text",
    "id": "-FpiHkbES9EM"
   },
   "source": [
    "# **Defining the UNET architecture**"
   ]
  },
  {
   "cell_type": "code",
   "execution_count": 0,
   "metadata": {
    "colab": {},
    "colab_type": "code",
    "id": "I2iVQpg864ij"
   },
   "outputs": [],
   "source": [
    "# importing necessary classes from Keras Library\n",
    "\n",
    "from keras.models import Model\n",
    "from keras.layers import Input\n",
    "from keras.layers import Conv2D, Conv2DTranspose    # For convolution & deconvolution respectively\n",
    "from keras.layers import MaxPooling2D\n",
    "from keras.layers.merge import concatenate   # For merging 2 layers. Here used to create the skip connections"
   ]
  },
  {
   "cell_type": "code",
   "execution_count": 0,
   "metadata": {
    "colab": {
     "base_uri": "https://localhost:8080/",
     "height": 1277
    },
    "colab_type": "code",
    "id": "RAgzVdswUkO8",
    "outputId": "b05c8a2a-758d-4df8-f0ab-37462d118b31"
   },
   "outputs": [
    {
     "name": "stdout",
     "output_type": "stream",
     "text": [
      "__________________________________________________________________________________________________\n",
      "Layer (type)                    Output Shape         Param #     Connected to                     \n",
      "==================================================================================================\n",
      "input_3 (InputLayer)            (None, 128, 128, 3)  0                                            \n",
      "__________________________________________________________________________________________________\n",
      "conv2d_12 (Conv2D)              (None, 128, 128, 16) 448         input_3[0][0]                    \n",
      "__________________________________________________________________________________________________\n",
      "conv2d_13 (Conv2D)              (None, 128, 128, 16) 2320        conv2d_12[0][0]                  \n",
      "__________________________________________________________________________________________________\n",
      "max_pooling2d_5 (MaxPooling2D)  (None, 64, 64, 16)   0           conv2d_13[0][0]                  \n",
      "__________________________________________________________________________________________________\n",
      "conv2d_14 (Conv2D)              (None, 64, 64, 32)   4640        max_pooling2d_5[0][0]            \n",
      "__________________________________________________________________________________________________\n",
      "conv2d_15 (Conv2D)              (None, 64, 64, 32)   9248        conv2d_14[0][0]                  \n",
      "__________________________________________________________________________________________________\n",
      "max_pooling2d_6 (MaxPooling2D)  (None, 32, 32, 32)   0           conv2d_15[0][0]                  \n",
      "__________________________________________________________________________________________________\n",
      "conv2d_16 (Conv2D)              (None, 32, 32, 64)   18496       max_pooling2d_6[0][0]            \n",
      "__________________________________________________________________________________________________\n",
      "conv2d_17 (Conv2D)              (None, 32, 32, 64)   36928       conv2d_16[0][0]                  \n",
      "__________________________________________________________________________________________________\n",
      "max_pooling2d_7 (MaxPooling2D)  (None, 16, 16, 64)   0           conv2d_17[0][0]                  \n",
      "__________________________________________________________________________________________________\n",
      "conv2d_18 (Conv2D)              (None, 16, 16, 128)  73856       max_pooling2d_7[0][0]            \n",
      "__________________________________________________________________________________________________\n",
      "conv2d_19 (Conv2D)              (None, 16, 16, 128)  147584      conv2d_18[0][0]                  \n",
      "__________________________________________________________________________________________________\n",
      "max_pooling2d_8 (MaxPooling2D)  (None, 8, 8, 128)    0           conv2d_19[0][0]                  \n",
      "__________________________________________________________________________________________________\n",
      "conv2d_20 (Conv2D)              (None, 8, 8, 256)    295168      max_pooling2d_8[0][0]            \n",
      "__________________________________________________________________________________________________\n",
      "conv2d_21 (Conv2D)              (None, 8, 8, 256)    590080      conv2d_20[0][0]                  \n",
      "__________________________________________________________________________________________________\n",
      "conv2d_transpose_1 (Conv2DTrans (None, 16, 16, 128)  295040      conv2d_21[0][0]                  \n",
      "__________________________________________________________________________________________________\n",
      "concatenate_1 (Concatenate)     (None, 16, 16, 256)  0           conv2d_transpose_1[0][0]         \n",
      "                                                                 conv2d_19[0][0]                  \n",
      "__________________________________________________________________________________________________\n",
      "conv2d_22 (Conv2D)              (None, 16, 16, 128)  295040      concatenate_1[0][0]              \n",
      "__________________________________________________________________________________________________\n",
      "conv2d_23 (Conv2D)              (None, 16, 16, 128)  147584      conv2d_22[0][0]                  \n",
      "__________________________________________________________________________________________________\n",
      "conv2d_transpose_2 (Conv2DTrans (None, 32, 32, 64)   73792       conv2d_23[0][0]                  \n",
      "__________________________________________________________________________________________________\n",
      "concatenate_2 (Concatenate)     (None, 32, 32, 128)  0           conv2d_transpose_2[0][0]         \n",
      "                                                                 conv2d_17[0][0]                  \n",
      "__________________________________________________________________________________________________\n",
      "conv2d_24 (Conv2D)              (None, 32, 32, 64)   73792       concatenate_2[0][0]              \n",
      "__________________________________________________________________________________________________\n",
      "conv2d_25 (Conv2D)              (None, 32, 32, 64)   36928       conv2d_24[0][0]                  \n",
      "__________________________________________________________________________________________________\n",
      "conv2d_transpose_3 (Conv2DTrans (None, 64, 64, 32)   18464       conv2d_25[0][0]                  \n",
      "__________________________________________________________________________________________________\n",
      "concatenate_3 (Concatenate)     (None, 64, 64, 64)   0           conv2d_transpose_3[0][0]         \n",
      "                                                                 conv2d_15[0][0]                  \n",
      "__________________________________________________________________________________________________\n",
      "conv2d_26 (Conv2D)              (None, 64, 64, 32)   18464       concatenate_3[0][0]              \n",
      "__________________________________________________________________________________________________\n",
      "conv2d_27 (Conv2D)              (None, 64, 64, 32)   9248        conv2d_26[0][0]                  \n",
      "__________________________________________________________________________________________________\n",
      "conv2d_transpose_4 (Conv2DTrans (None, 128, 128, 16) 4624        conv2d_27[0][0]                  \n",
      "__________________________________________________________________________________________________\n",
      "concatenate_4 (Concatenate)     (None, 128, 128, 32) 0           conv2d_transpose_4[0][0]         \n",
      "                                                                 conv2d_13[0][0]                  \n",
      "__________________________________________________________________________________________________\n",
      "conv2d_28 (Conv2D)              (None, 128, 128, 16) 4624        concatenate_4[0][0]              \n",
      "__________________________________________________________________________________________________\n",
      "conv2d_29 (Conv2D)              (None, 128, 128, 16) 2320        conv2d_28[0][0]                  \n",
      "__________________________________________________________________________________________________\n",
      "conv2d_30 (Conv2D)              (None, 128, 128, 16) 272         conv2d_29[0][0]                  \n",
      "==================================================================================================\n",
      "Total params: 2,158,960\n",
      "Trainable params: 2,158,960\n",
      "Non-trainable params: 0\n",
      "__________________________________________________________________________________________________\n"
     ]
    }
   ],
   "source": [
    "# Input layer\n",
    "input_layer = Input(shape = (128,128,3))\n",
    "\n",
    "# First stack of Conv layers \n",
    "c1_a = Conv2D(16, kernel_size=3, padding = 'same', activation = 'relu')(input_layer)\n",
    "c1 = Conv2D(16, kernel_size=3, padding = 'same', activation = 'relu')(c1_a)    # Output Dimension = 128,128,16\n",
    "\n",
    "# Applying maxpooling to first stack\n",
    "p1 = MaxPooling2D(pool_size = (2,2))(c1)\n",
    "\n",
    "# Second stack of Conv layers\n",
    "c2_a = Conv2D(32, kernel_size = 3, padding = 'same', activation = 'relu')(p1)\n",
    "c2 = Conv2D(32, kernel_size = 3, padding = 'same', activation = 'relu')(c2_a)    # Ouput Dimension = 64,64,32\n",
    "\n",
    "# Applying maxpooling to 2nd stack\n",
    "p2 = MaxPooling2D(pool_size = (2,2))(c2)\n",
    "\n",
    "# Third stack of Convlayers\n",
    "c3_a = Conv2D(64, kernel_size = 3, padding = 'same', activation = 'relu')(p2)\n",
    "c3 = Conv2D(64, kernel_size = 3, padding = 'same', activation = 'relu')(c3_a)    # Output dimension = 32,32,64\n",
    "\n",
    "# Aplying maxpooling to 3rd stack\n",
    "p3 = MaxPooling2D(pool_size=(2,2))(c3)\n",
    "\n",
    "# Fourth stack of Conv layers\n",
    "c4_a = Conv2D(128, kernel_size = 3, padding = 'same', activation = 'relu')(p3)\n",
    "c4 = Conv2D(128, kernel_size = 3, padding = 'same', activation = 'relu')(c4_a)   # Output dimension = 16,16,128\n",
    "\n",
    "# Applying maxpooling to 4th stack\n",
    "p4 = MaxPooling2D(pool_size=(2,2))(c4)\n",
    "\n",
    "# Fifth stack of conv layers\n",
    "c5_a = Conv2D(256, kernel_size = 3, padding = 'same', activation = 'relu')(p4)\n",
    "c5 = Conv2D(256, kernel_size = 3, padding = 'same', activation = 'relu')(c5_a)   # output dimension = 8,8,256\n",
    "\n",
    "# Apply Maxpooling transpose,i.e, Upsampling\n",
    "u6 = Conv2DTranspose(128, kernel_size = 3, strides = (2,2), padding = 'same')(c5)\n",
    "u6 = concatenate([u6,c4])   # Output dimension = 16,16,256\n",
    "\n",
    "# Sixth stack of conv layers\n",
    "c6_a = Conv2D(128, kernel_size = 3, padding = 'same', activation = 'relu')(u6)\n",
    "c6 = Conv2D(128, kernel_size = 3, padding = 'same', activation = 'relu')(c6_a)\n",
    "\n",
    "# Upsampling to 32,32,128\n",
    "u7 = Conv2DTranspose(64, kernel_size = 3, strides = (2,2), activation = 'relu', padding = 'same')(c6)\n",
    "\n",
    "u7 = concatenate([u7,c3])\n",
    "\n",
    "# Seventh stack of conv layers\n",
    "c7_a = Conv2D(64, kernel_size = 3, padding = 'same', activation = 'relu')(u7)\n",
    "c7 = Conv2D(64, kernel_size = 3, padding = 'same', activation = 'relu')(c7_a)    # Output dimension = 32,32,64\n",
    "\n",
    "# Upsample to 64,64,32\n",
    "u8 = Conv2DTranspose(32, kernel_size = 3, strides = (2,2), activation = 'relu', padding = 'same')(c7)\n",
    "\n",
    "u8 = concatenate([u8,c2])   # output dimension = 64,64,64\n",
    "\n",
    "# Eighth stack of conv layers\n",
    "c8_a = Conv2D(32, kernel_size = 3, padding = 'same', activation = 'relu')(u8)\n",
    "c8 = Conv2D(32, kernel_size = 3, padding = 'same', activation = 'relu')(c8_a)\n",
    "\n",
    "# Upsampling to 128,128,16\n",
    "u9 = Conv2DTranspose(16, kernel_size = 3, strides = (2,2), activation = 'relu', padding = 'same')(c8)\n",
    "\n",
    "u9 = concatenate([u9,c1])   # Output dimension = 128,128,32\n",
    "\n",
    "# Nineth stack of conv layers\n",
    "c9_a = Conv2D(16, kernel_size=3, padding = 'same', activation = 'relu')(u9)\n",
    "c9 = Conv2D(16, kernel_size=3, padding = 'same', activation = 'relu')(c9_a)\n",
    "\n",
    "# Output layer\n",
    "output_layer = Conv2D(16, kernel_size = 1, activation = 'relu')(c9)\n",
    "\n",
    "model = Model(input_layer,output_layer)\n",
    "model.summary()\n"
   ]
  },
  {
   "cell_type": "code",
   "execution_count": 0,
   "metadata": {
    "colab": {},
    "colab_type": "code",
    "id": "ZmGuwKH2sj6X"
   },
   "outputs": [],
   "source": []
  }
 ],
 "metadata": {
  "accelerator": "GPU",
  "colab": {
   "collapsed_sections": [],
   "name": "Expt_with_UNET.ipynb",
   "provenance": []
  },
  "kernelspec": {
   "display_name": "Python 3",
   "language": "python",
   "name": "python3"
  },
  "language_info": {
   "codemirror_mode": {
    "name": "ipython",
    "version": 3
   },
   "file_extension": ".py",
   "mimetype": "text/x-python",
   "name": "python",
   "nbconvert_exporter": "python",
   "pygments_lexer": "ipython3",
   "version": "3.6.5"
  }
 },
 "nbformat": 4,
 "nbformat_minor": 1
}
